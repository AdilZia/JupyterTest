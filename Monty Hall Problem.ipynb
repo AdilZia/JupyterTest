{
 "cells": [
  {
   "cell_type": "code",
   "execution_count": 6,
   "metadata": {},
   "outputs": [],
   "source": [
    "import random\n",
    "\n",
    "#Create a function which plays one instance of Monty Hall\n",
    "#The arguement of the function is whether or not you will \"swap\" when offered\n",
    "\n",
    "def play_monty_hall(swap):\n",
    "    \n",
    "    possible_outcomes = [\"Goat\",\"Goat\",\"Car\"]\n",
    "    doors = {\"Door1\": \" \" , \"Door2\": \" \" , \"Door3\": \" \"}   # Initialise with empty values \n",
    "    \n",
    "    #Randomly assign a value from possible outcomes to each door\n",
    "    for d in doors:\n",
    "        behind_door = random.choice(possible_outcomes)\n",
    "        doors[d] = behind_door\n",
    "        possible_outcomes.remove(behind_door)\n",
    "\n",
    "    # Select one door at random as our players first choice \n",
    "    my_door_is = random.choice(doors.keys())\n",
    "    \n",
    "    # The host reveals one of the 'two' goat 'doors'\n",
    "    one_door_removed = doors.copy() # Make a copy of the current state of play\n",
    "    \n",
    "    counter = 0\n",
    "    for d in doors:\n",
    "        if doors[d] == \"Goat\" and counter == 0 and d != my_door_is:\n",
    "            del one_door_removed[d]\n",
    "            counter += 1 \n",
    "           \n",
    "    \n",
    "    \n",
    "    door_with_car = [d for d in doors if doors[d] == 'Car'][0] \n",
    "    \n",
    "    \n",
    "    # Variable assignment of the \"alternative\" door (If the player swaps)\n",
    "    alternative_door = [d for d in one_door_removed if d != my_door_is][0]\n",
    "    \n",
    "    if swap == \"Yes\":\n",
    "        my_door_is = alternative_door\n",
    "        \n",
    "    \n",
    "    if my_door_is == door_with_car:\n",
    "        outcome = \"Win\"\n",
    "    else:\n",
    "        outcome = \"Loss\"\n",
    "        \n",
    "    return outcome\n",
    "\n",
    "        \n",
    "\n",
    "\n",
    "\n",
    "\n",
    "\n",
    "\n"
   ]
  },
  {
   "cell_type": "code",
   "execution_count": 7,
   "metadata": {},
   "outputs": [
    {
     "name": "stdout",
     "output_type": "stream",
     "text": [
      "Number of wins: 678\n",
      "Win_Rate: 67.8\n"
     ]
    }
   ],
   "source": [
    "# Simulation\n",
    "\n",
    "def simulate(swap, number_of_times):\n",
    "    count_wins = 0\n",
    "    for i in range(number_of_times):\n",
    "        outcome = play_monty_hall(swap)   \n",
    "        if outcome == \"Win\":\n",
    "            count_wins += 1\n",
    "        \n",
    "\n",
    "    print \"Number of wins: %s\" %count_wins\n",
    "    win_rate = (float(count_wins)/number_of_times) * 100.0\n",
    "    print \"Win_Rate: %s\" %win_rate\n",
    "    \n",
    "simulate(\"Yes\",1000)\n"
   ]
  },
  {
   "cell_type": "code",
   "execution_count": null,
   "metadata": {},
   "outputs": [],
   "source": []
  },
  {
   "cell_type": "code",
   "execution_count": null,
   "metadata": {
    "collapsed": true
   },
   "outputs": [],
   "source": []
  },
  {
   "cell_type": "code",
   "execution_count": null,
   "metadata": {
    "collapsed": true
   },
   "outputs": [],
   "source": []
  },
  {
   "cell_type": "code",
   "execution_count": null,
   "metadata": {
    "collapsed": true
   },
   "outputs": [],
   "source": []
  },
  {
   "cell_type": "code",
   "execution_count": null,
   "metadata": {
    "collapsed": true
   },
   "outputs": [],
   "source": [
    "\n"
   ]
  }
 ],
 "metadata": {
  "kernelspec": {
   "display_name": "Python 2",
   "language": "python",
   "name": "python2"
  },
  "language_info": {
   "codemirror_mode": {
    "name": "ipython",
    "version": 2
   },
   "file_extension": ".py",
   "mimetype": "text/x-python",
   "name": "python",
   "nbconvert_exporter": "python",
   "pygments_lexer": "ipython2",
   "version": "2.7.13"
  }
 },
 "nbformat": 4,
 "nbformat_minor": 2
}
